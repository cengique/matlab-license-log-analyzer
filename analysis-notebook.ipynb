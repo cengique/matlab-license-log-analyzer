{
 "cells": [
  {
   "cell_type": "markdown",
   "id": "2dbdbba2",
   "metadata": {},
   "source": [
    "# Matlab License Server Log File Analysis"
   ]
  },
  {
   "cell_type": "code",
   "execution_count": null,
   "id": "17d8d73e",
   "metadata": {},
   "outputs": [],
   "source": [
    "import numpy as np\n",
    "import pandas as pd\n",
    "import re\n",
    "import matplotlib.pyplot as plt"
   ]
  },
  {
   "cell_type": "code",
   "execution_count": null,
   "id": "543279a1",
   "metadata": {},
   "outputs": [],
   "source": [
    "def read_log_df(filename, from_date = None, to_date = None):\n",
    "    # Using readline()\n",
    "    file = open(filename, 'r')\n",
    "    count = 0\n",
    "    cur_date = None\n",
    "    \n",
    "    re_timestamp = re.compile(\"TIMESTAMP ([\\d/]+)\")\n",
    "    re_out = re.compile(\"^([\\d\\:]+) \\(MLM\\) OUT: \\\"(\\w+)\\\" (.+?)\\s*$\")\n",
    "    re_in = re.compile(\"^([\\d\\:]+) \\(MLM\\) IN: \\\"(\\w+)\\\" (.+?)\\s*$\")\n",
    "    \n",
    "    users = {}\n",
    "    output_list = []\n",
    "    \n",
    "    while True: # limit with count < 10000\n",
    "        count += 1\n",
    "\n",
    "        # Get next line from file\n",
    "        line = file.readline()\n",
    "        \n",
    "        # watch for timestamps and update date\n",
    "        p = re_timestamp.search(line)\n",
    "        if p:\n",
    "            # set date\n",
    "            cur_date = p.group(1)\n",
    "            #print(\"Match: \", cur_date)\n",
    "        \n",
    "        # check out one license\n",
    "        p = re_out.match(line)\n",
    "        if p:\n",
    "            out_dict = { p.group(2): cur_date + \" \" + p.group(1) }\n",
    "            if not p.group(3) in users:\n",
    "                users[p.group(3)] = out_dict\n",
    "            else:\n",
    "                users[p.group(3)].update(out_dict)\n",
    "            #print(\"OUT: \", p)\n",
    "        \n",
    "        # check in license, add row to dataframe\n",
    "        p = re_in.match(line)\n",
    "        if p:\n",
    "            if ( not p.group(3) in users ) or ( not p.group(2) in users[p.group(3)] ):\n",
    "                print(\"WARNING: IN without preceding OUT for user '\" + p.group(3) + \"' and license '\"\n",
    "                      + p.group(2) + \"' at \" + cur_date + \" in line:\\n\" + line)\n",
    "                print(\"Users: \", users, \"\\n\")\n",
    "            else:\n",
    "                output_list.append([p.group(3), p.group(2), users[p.group(3)][p.group(2)], \n",
    "                            cur_date + \" \" + p.group(1)])\n",
    "                del users[p.group(3)][p.group(2)]\n",
    "                # print(\"IN: \", p)\n",
    "            \n",
    "        # if line is empty\n",
    "        # end of file is reached\n",
    "        if not line:\n",
    "            break\n",
    "        #print(\"Line{}: {}\".format(count, line.strip()))\n",
    "\n",
    "    file.close()\n",
    "    output_df = pd.DataFrame(data=output_list, columns=['User','License','Start_time','End_time'])\n",
    "    return output_df"
   ]
  },
  {
   "cell_type": "code",
   "execution_count": null,
   "id": "d461e168",
   "metadata": {},
   "outputs": [],
   "source": [
    "log_df = read_log_df(\"lm_TMW-2018-2021.log\")\n",
    "log_df.to_csv(\"lm_TMW-2018-2021.csv\")"
   ]
  },
  {
   "cell_type": "code",
   "execution_count": null,
   "id": "ca217ec6",
   "metadata": {},
   "outputs": [],
   "source": [
    "# convert to real dates\n",
    "log_df[\"Start_time\"] = pd.to_datetime(log_df[\"Start_time\"])\n",
    "log_df[\"End_time\"] = pd.to_datetime(log_df[\"End_time\"])\n",
    "log_df[\"Duration\"] = log_df[\"End_time\"] - log_df[\"Start_time\"]\n",
    "log_df"
   ]
  },
  {
   "cell_type": "markdown",
   "id": "153068ee",
   "metadata": {},
   "source": [
    "## Total Usage of All Licenses"
   ]
  },
  {
   "cell_type": "code",
   "execution_count": null,
   "id": "765bd4f4",
   "metadata": {},
   "outputs": [],
   "source": [
    "fig = plt.figure()\n",
    "ax = plt.axes()\n",
    "log_df[\"Start_time\"].hist(ax = ax, figsize=(12,3),bins=50)\n",
    "plt.xlabel(\"Start date\")\n",
    "plt.ylabel(\"Count\")"
   ]
  },
  {
   "cell_type": "markdown",
   "id": "d61dcd87",
   "metadata": {},
   "source": [
    "## Usage of Each License Type"
   ]
  },
  {
   "cell_type": "code",
   "execution_count": null,
   "id": "b4da18be",
   "metadata": {},
   "outputs": [],
   "source": [
    "group_license = log_df.groupby(\"License\")\n",
    "group_license[\"User\"].count().sort_values(ascending=False)"
   ]
  },
  {
   "cell_type": "code",
   "execution_count": null,
   "id": "6bb49335",
   "metadata": {},
   "outputs": [],
   "source": [
    "hists = group_license.hist(column=[\"Start_time\"], figsize=(12,3), bins=50, sharex=True, stacked=True)\n",
    "for hist in hists.keys():\n",
    "    hists[hist][0][0].set_title(hist) \n",
    "    hists[hist][0][0].set_xlabel(\"Start time\")\n",
    "    hists[hist][0][0].set_ylabel(\"Count\")\n",
    "plt.draw()"
   ]
  },
  {
   "cell_type": "markdown",
   "id": "803159b0",
   "metadata": {},
   "source": [
    "## Duration of Use"
   ]
  },
  {
   "cell_type": "code",
   "execution_count": null,
   "id": "5e476aa7",
   "metadata": {},
   "outputs": [],
   "source": [
    "fig = plt.figure()\n",
    "ax = plt.axes()\n",
    "log_df[\"Duration\"].astype('timedelta64[h]').hist(ax = ax, figsize=(12,3), bins=50)\n",
    "plt.xlabel(\"Duration [hours]\")\n",
    "plt.ylabel(\"Count\")"
   ]
  },
  {
   "cell_type": "markdown",
   "id": "e4fa0970",
   "metadata": {},
   "source": [
    "## By Users"
   ]
  },
  {
   "cell_type": "code",
   "execution_count": null,
   "id": "aac9688b",
   "metadata": {},
   "outputs": [],
   "source": [
    "group_user = log_df.groupby(\"User\")\n",
    "group_user[\"License\"].count().sort_values(ascending=False)"
   ]
  },
  {
   "cell_type": "code",
   "execution_count": null,
   "id": "83886750",
   "metadata": {},
   "outputs": [],
   "source": [
    "hists = group_user.hist(column=[\"Start_time\"], figsize=(12,3), bins=50, sharex=True, stacked=True)\n",
    "for hist in hists.keys():\n",
    "    hists[hist][0][0].set_title(hist) \n",
    "    hists[hist][0][0].set_xlabel(\"Start time\")\n",
    "    hists[hist][0][0].set_ylabel(\"Count\")\n",
    "plt.draw()"
   ]
  },
  {
   "cell_type": "code",
   "execution_count": null,
   "id": "8d968d98",
   "metadata": {},
   "outputs": [],
   "source": []
  }
 ],
 "metadata": {
  "kernelspec": {
   "display_name": "Python 3",
   "language": "python",
   "name": "python3"
  },
  "language_info": {
   "codemirror_mode": {
    "name": "ipython",
    "version": 3
   },
   "file_extension": ".py",
   "mimetype": "text/x-python",
   "name": "python",
   "nbconvert_exporter": "python",
   "pygments_lexer": "ipython3",
   "version": "3.9.5"
  }
 },
 "nbformat": 4,
 "nbformat_minor": 5
}
